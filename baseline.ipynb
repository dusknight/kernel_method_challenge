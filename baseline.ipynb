{
 "cells": [
  {
   "cell_type": "code",
   "execution_count": 2,
   "id": "8dcfb4d1",
   "metadata": {},
   "outputs": [],
   "source": [
    "import numpy as np\n",
    "import pandas as pd\n",
    "import matplotlib.pyplot as plt\n",
    "\n",
    "from sklearn.model_selection import train_test_split\n",
    "from sklearn import svm\n",
    "\n",
    "Xtr = np.array(pd.read_csv('data/Xtr.csv',header=None,sep=',',usecols=range(3072)))\n",
    "Xte = np.array(pd.read_csv('data/Xte.csv',header=None,sep=',',usecols=range(3072)))\n",
    "Ytr = np.array(pd.read_csv('data/Ytr.csv',sep=',',usecols=[1])).squeeze()\n"
   ]
  },
  {
   "cell_type": "code",
   "execution_count": 14,
   "id": "12346570",
   "metadata": {},
   "outputs": [
    {
     "data": {
      "image/png": "[encoded data removed]",
      "text/plain": [
       "<Figure size 432x288 with 2 Axes>"
      ]
     },
     "metadata": {
      "needs_background": "light"
     },
     "output_type": "display_data"
    }
   ],
   "source": [
    "# convert the RGB images into grayscale?\n",
    "def rgb2gray(image, gamma=1.):\n",
    "\n",
    "    r, g, b = image[:, :1024], image[:, 1024:2048], image[:,2048:]\n",
    "    gray = 0.2989 * r + 0.5870 * g + 0.1140 * b\n",
    "#     gray[gray<0] = 0\n",
    "    gray += abs(np.min(gray, axis=1)[:, None])\n",
    "#     gray = np.maximum(r, g, b)\n",
    "    return gray**gamma\n",
    "\n",
    "def normalize(image):\n",
    "    m = np.mean(image, axis=1)\n",
    "    sd2 = np.mean((image-m[:,None])**2, axis=1)\n",
    "    return (image - m[:, None]) / np.sqrt(sd2[:, None])\n",
    "x = rgb2gray(Xtr, 1.)\n",
    "# print(x)\n",
    "plt.imshow(x[900].reshape(32, 32), cmap='gray')\n",
    "plt.colorbar()\n",
    "plt.show()\n",
    "# x = normalize(xx)\n",
    "# plt.imshow(x[119].reshape(32, 32), cmap='gray')\n",
    "# plt.colorbar()\n",
    "# plt.show()\n"
   ]
  },
  {
   "cell_type": "code",
   "execution_count": 274,
   "id": "3159037b",
   "metadata": {},
   "outputs": [],
   "source": [
    "# descriptor length ?\n",
    "x_pixel = 32\n",
    "y_pixel = 32\n",
    "\n",
    "# 1 block = 4 cells\n",
    "cell_w = 2\n",
    "\n",
    "cell_x = int(x_pixel / cell_w)  \n",
    "cell_y = int(y_pixel / cell_w)\n",
    "\n",
    "max_h = 32\n",
    "max_w = 32\n",
    "\n",
    "\n",
    "def image_grad(image_array):\n",
    "\n",
    "    grad = np.zeros([max_h, max_w])\n",
    "    mag = np.zeros([max_h, max_w])\n",
    "    for h,row in enumerate(image_array):\n",
    "        for w, val in enumerate(row):\n",
    "            if h-1>=0 and w-1>=0 and h+1<max_h and w+1<max_w:\n",
    "                dy = image_array[h+1][w]-image_array[h-1][w]\n",
    "                dx = row[w+1]-row[w-1]+0.0001\n",
    "                grad[h][w] = np.arctan(dy/dx)*(180/np.pi)\n",
    "                if grad[h][w]<0:\n",
    "                    grad[h][w] += 180\n",
    "                mag[h][w] = np.sqrt(dy*dy+dx*dx)\n",
    "    \n",
    "    return grad, mag\n",
    "\n",
    "\n",
    "def div_cells(mag):\n",
    "    mag_cells = np.zeros(shape=(cell_x, cell_y, cell_w, cell_w)) \n",
    "    mag_x = np.split(mag, cell_x, axis=0)\n",
    "\n",
    "    for i, l in enumerate(mag_x):\n",
    "        mag_x[i] = np.array(l)\n",
    "        mag_xy = np.split(mag_x[i], cell_y, axis=1)\n",
    "        for j, l1 in enumerate(mag_xy):\n",
    "            mag_xy[j] = np.array(l1)\n",
    "            mag_cells[i][j] = mag_xy[j]\n",
    "\n",
    "    return mag_cells\n",
    "\n",
    "\n",
    "def get_bins(mag_cell, ang_cell):\n",
    "    bin_num = 9\n",
    "    bins = [0.0] * bin_num  \n",
    "    offset = 20\n",
    "\n",
    "    mag_list = mag_cell.flatten()\n",
    "    ang_list = ang_cell.flatten()\n",
    "\n",
    "    for i, ang in enumerate(ang_list):\n",
    "        if ang >= 180:\n",
    "            ang -= 180  \n",
    "\n",
    "        left_bin = int(ang / offset)\n",
    "\n",
    "        right_bin = left_bin + 1 if left_bin != bin_num - 1 else 0\n",
    "\n",
    "        right_ratio = ang / offset - left_bin\n",
    "        left_ration = 1 - right_ratio\n",
    "\n",
    "        bins[left_bin] = mag_list[i] * left_ration\n",
    "        bins[right_bin] = mag_list[i] * right_ratio\n",
    "\n",
    "    return bins\n",
    "\n",
    "\n",
    "def hog(img):\n",
    "    ang, mag = image_grad(img)\n",
    "   \n",
    "    mag_cells = div_cells(mag)\n",
    "    ang_cells = div_cells(ang)\n",
    "    hog_descriptor = np.array([])\n",
    "\n",
    "    for x in range(cell_x - 1):  \n",
    "        for y in range(cell_y - 1):  \n",
    "            hist = []\n",
    "            hist.extend(get_bins(mag_cells[x][y], ang_cells[x][y]))\n",
    "            hist.extend(get_bins(mag_cells[x][y + 1], ang_cells[x][y + 1]))\n",
    "            hist.extend(get_bins(mag_cells[x + 1][y], ang_cells[x + 1][y])) \n",
    "            hist.extend(get_bins(mag_cells[x + 1][y + 1], ang_cells[x + 1][y + 1]))\n",
    "            arr = np.array(hist)\n",
    "            arr /= (np.linalg.norm(arr) + 1e-4)\n",
    "            hog_descriptor = np.hstack((hog_descriptor, arr))\n",
    "    return hog_descriptor\n"
   ]
  },
  {
   "cell_type": "code",
   "execution_count": 276,
   "id": "325e25d6",
   "metadata": {},
   "outputs": [],
   "source": [
    "train_set = np.zeros((Xtr.shape[0], 8100))\n",
    "for i, image in enumerate(x):\n",
    "    tmp = hog(image.reshape(32, 32))\n",
    "    train_set[i] = tmp"
   ]
  },
  {
   "cell_type": "code",
   "execution_count": 277,
   "id": "ea719cce",
   "metadata": {},
   "outputs": [
    {
     "name": "stdout",
     "output_type": "stream",
     "text": [
      "0.439\n",
      "0.443\n",
      "0.443\n",
      "0.443\n",
      "0.443\n"
     ]
    }
   ],
   "source": [
    "X_train, X_test, y_train, y_test = train_test_split(train_set, Ytr, test_size=0.2, random_state=20)\n",
    "list = [1., 3., 5., 10., 100.]\n",
    "for c in list:\n",
    "    clf = svm.SVC(C=c, kernel='rbf')\n",
    "    clf.fit(X_train, y_train)\n",
    "    print(clf.score(X_test, y_test))"
   ]
  },
  {
   "cell_type": "code",
   "execution_count": 176,
   "id": "b5dd622c",
   "metadata": {},
   "outputs": [
    {
     "name": "stdout",
     "output_type": "stream",
     "text": [
      "0.235\n"
     ]
    }
   ],
   "source": [
    "# no feature extraction \n",
    "X_train, X_test, y_train, y_test = train_test_split(Xtr, Ytr, test_size=0.2, random_state=20)\n",
    "clf = svm.SVC(C=1., kernel='rbf')\n",
    "clf.fit(X_train, y_train)\n",
    "print(clf.score(X_test, y_test))"
   ]
  },
  {
   "cell_type": "code",
   "execution_count": null,
   "id": "07091c65",
   "metadata": {},
   "outputs": [],
   "source": [
    "# predict on the test data\n",
    "# for instance, Yte = classifier.fit(Xte)\n",
    "\n",
    "# Yte = {'Prediction' : Yte}\n",
    "# dataframe = pd.DataFrame(Yte)\n",
    "# dataframe.index += 1\n",
    "# dataframe.to_csv('Yte_pred.csv',index_label='Id')"
   ]
  }
 ],
 "metadata": {
  "kernelspec": {
   "display_name": "Python [conda env:ot] *",
   "language": "python",
   "name": "conda-env-ot-py"
  },
  "language_info": {
   "codemirror_mode": {
    "name": "ipython",
    "version": 3
   },
   "file_extension": ".py",
   "mimetype": "text/x-python",
   "name": "python",
   "nbconvert_exporter": "python",
   "pygments_lexer": "ipython3",
   "version": "3.8.8"
  }
 },
 "nbformat": 4,
 "nbformat_minor": 5
}
